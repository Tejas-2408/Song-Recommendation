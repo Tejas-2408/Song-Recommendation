{
 "cells": [
  {
   "cell_type": "markdown",
   "id": "d8331845-8f7d-4c82-be57-eddcd2b94748",
   "metadata": {},
   "source": [
    "# Music Recommendation System"
   ]
  },
  {
   "cell_type": "markdown",
   "id": "2925ca1d-c5c2-48fb-908a-e93282121a2e",
   "metadata": {},
   "source": [
    "**This is a Machine Learning model to suggest songs to user based on content similarity approach**"
   ]
  },
  {
   "cell_type": "markdown",
   "id": "745ca122-13d1-4229-9d8d-dd2ed88bd8c9",
   "metadata": {
    "jp-MarkdownHeadingCollapsed": true
   },
   "source": [
    "#### Importing Libraries and Dataset"
   ]
  },
  {
   "cell_type": "code",
   "execution_count": 8,
   "id": "1bf7ece9-cf1f-4358-8dc9-ce69b0636277",
   "metadata": {},
   "outputs": [],
   "source": [
    "import numpy as np\n",
    "import pandas as pd\n",
    "import warnings\n",
    "warnings.filterwarnings(\"ignore\")"
   ]
  },
  {
   "cell_type": "code",
   "execution_count": 3,
   "id": "2b276e5a-c783-42cb-a66a-661f297bee3f",
   "metadata": {},
   "outputs": [
    {
     "name": "stdout",
     "output_type": "stream",
     "text": [
      "(57650, 4)\n"
     ]
    },
    {
     "data": {
      "text/html": [
       "<div>\n",
       "<style scoped>\n",
       "    .dataframe tbody tr th:only-of-type {\n",
       "        vertical-align: middle;\n",
       "    }\n",
       "\n",
       "    .dataframe tbody tr th {\n",
       "        vertical-align: top;\n",
       "    }\n",
       "\n",
       "    .dataframe thead th {\n",
       "        text-align: right;\n",
       "    }\n",
       "</style>\n",
       "<table border=\"1\" class=\"dataframe\">\n",
       "  <thead>\n",
       "    <tr style=\"text-align: right;\">\n",
       "      <th></th>\n",
       "      <th>artist</th>\n",
       "      <th>song</th>\n",
       "      <th>link</th>\n",
       "      <th>text</th>\n",
       "    </tr>\n",
       "  </thead>\n",
       "  <tbody>\n",
       "    <tr>\n",
       "      <th>0</th>\n",
       "      <td>ABBA</td>\n",
       "      <td>Ahe's My Kind Of Girl</td>\n",
       "      <td>/a/abba/ahes+my+kind+of+girl_20598417.html</td>\n",
       "      <td>Look at her face, it's a wonderful face  \\nAnd...</td>\n",
       "    </tr>\n",
       "    <tr>\n",
       "      <th>1</th>\n",
       "      <td>ABBA</td>\n",
       "      <td>Andante, Andante</td>\n",
       "      <td>/a/abba/andante+andante_20002708.html</td>\n",
       "      <td>Take it easy with me, please  \\nTouch me gentl...</td>\n",
       "    </tr>\n",
       "    <tr>\n",
       "      <th>2</th>\n",
       "      <td>ABBA</td>\n",
       "      <td>As Good As New</td>\n",
       "      <td>/a/abba/as+good+as+new_20003033.html</td>\n",
       "      <td>I'll never know why I had to go  \\nWhy I had t...</td>\n",
       "    </tr>\n",
       "    <tr>\n",
       "      <th>3</th>\n",
       "      <td>ABBA</td>\n",
       "      <td>Bang</td>\n",
       "      <td>/a/abba/bang_20598415.html</td>\n",
       "      <td>Making somebody happy is a question of give an...</td>\n",
       "    </tr>\n",
       "    <tr>\n",
       "      <th>4</th>\n",
       "      <td>ABBA</td>\n",
       "      <td>Bang-A-Boomerang</td>\n",
       "      <td>/a/abba/bang+a+boomerang_20002668.html</td>\n",
       "      <td>Making somebody happy is a question of give an...</td>\n",
       "    </tr>\n",
       "  </tbody>\n",
       "</table>\n",
       "</div>"
      ],
      "text/plain": [
       "  artist                   song                                        link  \\\n",
       "0   ABBA  Ahe's My Kind Of Girl  /a/abba/ahes+my+kind+of+girl_20598417.html   \n",
       "1   ABBA       Andante, Andante       /a/abba/andante+andante_20002708.html   \n",
       "2   ABBA         As Good As New        /a/abba/as+good+as+new_20003033.html   \n",
       "3   ABBA                   Bang                  /a/abba/bang_20598415.html   \n",
       "4   ABBA       Bang-A-Boomerang      /a/abba/bang+a+boomerang_20002668.html   \n",
       "\n",
       "                                                text  \n",
       "0  Look at her face, it's a wonderful face  \\nAnd...  \n",
       "1  Take it easy with me, please  \\nTouch me gentl...  \n",
       "2  I'll never know why I had to go  \\nWhy I had t...  \n",
       "3  Making somebody happy is a question of give an...  \n",
       "4  Making somebody happy is a question of give an...  "
      ]
     },
     "execution_count": 3,
     "metadata": {},
     "output_type": "execute_result"
    }
   ],
   "source": [
    "songs = pd.read_csv(\"songdata.csv\")\n",
    "print(songs.shape)\n",
    "songs.head()"
   ]
  },
  {
   "cell_type": "markdown",
   "id": "eb82e097-1b56-4ac3-b8d9-999f65500800",
   "metadata": {},
   "source": [
    "#### Data cleaning"
   ]
  },
  {
   "cell_type": "code",
   "execution_count": 5,
   "id": "ee59bbd3-14c2-46a0-a907-a69b0e3408d0",
   "metadata": {},
   "outputs": [
    {
     "name": "stdout",
     "output_type": "stream",
     "text": [
      "(5000, 3)\n"
     ]
    },
    {
     "data": {
      "text/html": [
       "<div>\n",
       "<style scoped>\n",
       "    .dataframe tbody tr th:only-of-type {\n",
       "        vertical-align: middle;\n",
       "    }\n",
       "\n",
       "    .dataframe tbody tr th {\n",
       "        vertical-align: top;\n",
       "    }\n",
       "\n",
       "    .dataframe thead th {\n",
       "        text-align: right;\n",
       "    }\n",
       "</style>\n",
       "<table border=\"1\" class=\"dataframe\">\n",
       "  <thead>\n",
       "    <tr style=\"text-align: right;\">\n",
       "      <th></th>\n",
       "      <th>artist</th>\n",
       "      <th>song</th>\n",
       "      <th>text</th>\n",
       "    </tr>\n",
       "  </thead>\n",
       "  <tbody>\n",
       "    <tr>\n",
       "      <th>0</th>\n",
       "      <td>Dolly Parton</td>\n",
       "      <td>I Dreamed Of A Hillbilly Heaven</td>\n",
       "      <td>I dreamed I was there in hillbilly heaven oh w...</td>\n",
       "    </tr>\n",
       "    <tr>\n",
       "      <th>1</th>\n",
       "      <td>Styx</td>\n",
       "      <td>What Has Come Between Us</td>\n",
       "      <td>Look at all the people  \\nLooking at their dre...</td>\n",
       "    </tr>\n",
       "    <tr>\n",
       "      <th>2</th>\n",
       "      <td>Bon Jovi</td>\n",
       "      <td>Bed Of Roses</td>\n",
       "      <td>Sitting here wasted and wounded  \\nAt this old...</td>\n",
       "    </tr>\n",
       "    <tr>\n",
       "      <th>3</th>\n",
       "      <td>Chris Rea</td>\n",
       "      <td>Square Peg, Round Hole</td>\n",
       "      <td>He's a square peg in a round hole  \\nMisfit in...</td>\n",
       "    </tr>\n",
       "    <tr>\n",
       "      <th>4</th>\n",
       "      <td>Amy Grant</td>\n",
       "      <td>It's The Most Wonderful Time Of The Year</td>\n",
       "      <td>It's the most wonderful time of the year  \\n  ...</td>\n",
       "    </tr>\n",
       "  </tbody>\n",
       "</table>\n",
       "</div>"
      ],
      "text/plain": [
       "         artist                                      song  \\\n",
       "0  Dolly Parton           I Dreamed Of A Hillbilly Heaven   \n",
       "1          Styx                  What Has Come Between Us   \n",
       "2      Bon Jovi                              Bed Of Roses   \n",
       "3     Chris Rea                    Square Peg, Round Hole   \n",
       "4     Amy Grant  It's The Most Wonderful Time Of The Year   \n",
       "\n",
       "                                                text  \n",
       "0  I dreamed I was there in hillbilly heaven oh w...  \n",
       "1  Look at all the people  \\nLooking at their dre...  \n",
       "2  Sitting here wasted and wounded  \\nAt this old...  \n",
       "3  He's a square peg in a round hole  \\nMisfit in...  \n",
       "4  It's the most wonderful time of the year  \\n  ...  "
      ]
     },
     "execution_count": 5,
     "metadata": {},
     "output_type": "execute_result"
    }
   ],
   "source": [
    "df = songs.sample(n=5000).drop('link',axis=1).reset_index(drop=True)\n",
    "print(df.shape)\n",
    "df.head()"
   ]
  },
  {
   "cell_type": "code",
   "execution_count": 6,
   "id": "fdf2e8e5-578a-47ac-9e0c-23975ebcaf2d",
   "metadata": {},
   "outputs": [
    {
     "name": "stdout",
     "output_type": "stream",
     "text": [
      "<class 'pandas.core.frame.DataFrame'>\n",
      "RangeIndex: 5000 entries, 0 to 4999\n",
      "Data columns (total 3 columns):\n",
      " #   Column  Non-Null Count  Dtype \n",
      "---  ------  --------------  ----- \n",
      " 0   artist  5000 non-null   object\n",
      " 1   song    5000 non-null   object\n",
      " 2   text    5000 non-null   object\n",
      "dtypes: object(3)\n",
      "memory usage: 117.3+ KB\n"
     ]
    }
   ],
   "source": [
    "df.info()"
   ]
  },
  {
   "cell_type": "code",
   "execution_count": 7,
   "id": "694814b1-7493-4c69-ae6c-c4bcef0d0a6f",
   "metadata": {},
   "outputs": [
    {
     "data": {
      "text/plain": [
       "artist    0\n",
       "song      0\n",
       "text      0\n",
       "dtype: int64"
      ]
     },
     "execution_count": 7,
     "metadata": {},
     "output_type": "execute_result"
    }
   ],
   "source": [
    "df.isnull().sum()"
   ]
  },
  {
   "cell_type": "raw",
   "id": "d6275ad1-c55c-4963-a930-dd33f5ee5a75",
   "metadata": {},
   "source": [
    "In content based suggestion we can suggest new songs to user based on Singer name and text used in songs so we will merge both columns after cleaning the data in text and singer column"
   ]
  },
  {
   "cell_type": "code",
   "execution_count": 9,
   "id": "bb6843f2-2d13-4bb5-9923-0f4db4c7a83d",
   "metadata": {},
   "outputs": [
    {
     "data": {
      "text/html": [
       "<div>\n",
       "<style scoped>\n",
       "    .dataframe tbody tr th:only-of-type {\n",
       "        vertical-align: middle;\n",
       "    }\n",
       "\n",
       "    .dataframe tbody tr th {\n",
       "        vertical-align: top;\n",
       "    }\n",
       "\n",
       "    .dataframe thead th {\n",
       "        text-align: right;\n",
       "    }\n",
       "</style>\n",
       "<table border=\"1\" class=\"dataframe\">\n",
       "  <thead>\n",
       "    <tr style=\"text-align: right;\">\n",
       "      <th></th>\n",
       "      <th>artist</th>\n",
       "      <th>song</th>\n",
       "      <th>text</th>\n",
       "    </tr>\n",
       "  </thead>\n",
       "  <tbody>\n",
       "    <tr>\n",
       "      <th>0</th>\n",
       "      <td>DollyParton</td>\n",
       "      <td>I Dreamed Of A Hillbilly Heaven</td>\n",
       "      <td>I dreamed I was there in hillbilly heaven oh w...</td>\n",
       "    </tr>\n",
       "    <tr>\n",
       "      <th>1</th>\n",
       "      <td>Styx</td>\n",
       "      <td>What Has Come Between Us</td>\n",
       "      <td>Look at all the people  \\nLooking at their dre...</td>\n",
       "    </tr>\n",
       "    <tr>\n",
       "      <th>2</th>\n",
       "      <td>BonJovi</td>\n",
       "      <td>Bed Of Roses</td>\n",
       "      <td>Sitting here wasted and wounded  \\nAt this old...</td>\n",
       "    </tr>\n",
       "    <tr>\n",
       "      <th>3</th>\n",
       "      <td>ChrisRea</td>\n",
       "      <td>Square Peg, Round Hole</td>\n",
       "      <td>He's a square peg in a round hole  \\nMisfit in...</td>\n",
       "    </tr>\n",
       "    <tr>\n",
       "      <th>4</th>\n",
       "      <td>AmyGrant</td>\n",
       "      <td>It's The Most Wonderful Time Of The Year</td>\n",
       "      <td>It's the most wonderful time of the year  \\n  ...</td>\n",
       "    </tr>\n",
       "  </tbody>\n",
       "</table>\n",
       "</div>"
      ],
      "text/plain": [
       "        artist                                      song  \\\n",
       "0  DollyParton           I Dreamed Of A Hillbilly Heaven   \n",
       "1         Styx                  What Has Come Between Us   \n",
       "2      BonJovi                              Bed Of Roses   \n",
       "3     ChrisRea                    Square Peg, Round Hole   \n",
       "4     AmyGrant  It's The Most Wonderful Time Of The Year   \n",
       "\n",
       "                                                text  \n",
       "0  I dreamed I was there in hillbilly heaven oh w...  \n",
       "1  Look at all the people  \\nLooking at their dre...  \n",
       "2  Sitting here wasted and wounded  \\nAt this old...  \n",
       "3  He's a square peg in a round hole  \\nMisfit in...  \n",
       "4  It's the most wonderful time of the year  \\n  ...  "
      ]
     },
     "execution_count": 9,
     "metadata": {},
     "output_type": "execute_result"
    }
   ],
   "source": [
    "df['artist'] = df['artist'].apply(lambda x:x.replace(\" \",\"\"))\n",
    "df.head()"
   ]
  },
  {
   "cell_type": "code",
   "execution_count": 10,
   "id": "ca128c30-407e-4d2f-aabb-452d3a2de2fd",
   "metadata": {},
   "outputs": [
    {
     "data": {
      "text/plain": [
       "\"I dreamed I was there in hillbilly heaven oh what a beautiful sight  \\nAnd I met all the stars in hillbilly heaven oh what a star spangled night  \\nLast night I dreamed I went to hillbilly heaven  \\nAnd just as I arrived the old curtain lifted  \\nAnd there on stage stood who else but Roy Acuff and Tex Ritter  \\nThey said well how you doing come on in here  \\nI know there's some folks you want to see  \\nOver there's our newest member your old friend Conway Twitty say Hello Darlin'  \\nAnd there's gentlemen Jim Reeves singin' with heaven's choir  \\nRoger Miller he just got here he's making everybody laugh  \\nCourse you know Roy Orbison can sing just as high as anybody here  \\nAnd Ernest Tubb can sing as low  \\nAnd Patsy Cline well bet she's the best singin' angel here  \\nAnd Dottie West is probably the prettiest  \\nThere's the old pea-picker Ernie Ford  \\nJimmy Rodgers George Morgan Hank Williams  \\nAnd the wandering boy Web Pierce  \\nThe old honky tonker himself Lefty Frizzell  \\nMy goodness what a group  \\nWould you just listen to Mother Mabel  \\nOver there pickin' the Wildwood Flower with the angel band  \\nYou know I personally think she's just about God's favorite  \\nAnd Marty Robbins well he's still gettin' more encores than anybody else up\\nhere  \\nJust like he used to down on earth  \\nYeah well there's Elvis they still call him the King  \\nBut we know they're not talking about the real king up here  \\nI dreamed I went to hillbilly heaven oh what a star studded night  \\nThen I ask Roy and Tex I said well who do you think will be showin' up  \\nSay within the next 40 50 60 years  \\nThey handed me a big tallybook and in it I saw names like Johnny Cash  \\nGeorge Jones Merle Haggard Don Gibson Mel Tillis Farren Young Kitty Wells  \\nSome of the newer ones like Vince Gill and Garth Brooks  \\nCourse they talked about Minnie Pearl the Judds Tanya Tucker Reba McEntire\\nHank Jr  \\nOh of course Buck Owens Roy Rodgers Gene Autry Randy Travis and Willie Nelson  \\nThere's old Chet  \\nI said well where's Porter Wagoner's name oh there it is  \\nAnd then there was Loretta Lynn and Tammy Wynette and Dolly Parton  \\nOooh that's when I woke up  \\nI dreamed I was there in hillbilly heaven oh what a beautiful sight  \\nAnd I met all the stars in hillbilly heaven oh what a star spangled night\\n\\n\""
      ]
     },
     "execution_count": 10,
     "metadata": {},
     "output_type": "execute_result"
    }
   ],
   "source": [
    "df['text'][0]"
   ]
  },
  {
   "cell_type": "code",
   "execution_count": 14,
   "id": "b8d0b504-d324-40d2-b478-63ab28bc24cc",
   "metadata": {},
   "outputs": [
    {
     "data": {
      "text/plain": [
       "\"i dreamed i was there in hillbilly heaven oh what a beautiful sight  and i met all the stars in hillbilly heaven oh what a star spangled night  last night i dreamed i went to hillbilly heaven  and just as i arrived the old curtain lifted  and there on stage stood who else but roy acuff and tex ritter  they said well how you doing come on in here  i know there's some folks you want to see  over there's our newest member your old friend conway twitty say hello darlin'  and there's gentlemen jim reeves singin' with heaven's choir  roger miller he just got here he's making everybody laugh  course you know roy orbison can sing just as high as anybody here  and ernest tubb can sing as low  and patsy cline well bet she's the best singin' angel here  and dottie west is probably the prettiest  there's the old pea-picker ernie ford  jimmy rodgers george morgan hank williams  and the wandering boy web pierce  the old honky tonker himself lefty frizzell  my goodness what a group  would you just listen to mother mabel  over there pickin' the wildwood flower with the angel band  you know i personally think she's just about god's favorite  and marty robbins well he's still gettin' more encores than anybody else uphere  just like he used to down on earth  yeah well there's elvis they still call him the king  but we know they're not talking about the real king up here  i dreamed i went to hillbilly heaven oh what a star studded night  then i ask roy and tex i said well who do you think will be showin' up  say within the next 40 50 60 years  they handed me a big tallybook and in it i saw names like johnny cash  george jones merle haggard don gibson mel tillis farren young kitty wells  some of the newer ones like vince gill and garth brooks  course they talked about minnie pearl the judds tanya tucker reba mcentirehank jr  oh of course buck owens roy rodgers gene autry randy travis and willie nelson  there's old chet  i said well where's porter wagoner's name oh there it is  and then there was loretta lynn and tammy wynette and dolly parton  oooh that's when i woke up  i dreamed i was there in hillbilly heaven oh what a beautiful sight  and i met all the stars in hillbilly heaven oh what a star spangled night\""
      ]
     },
     "execution_count": 14,
     "metadata": {},
     "output_type": "execute_result"
    }
   ],
   "source": [
    "df['text'] = df['text'].str.lower().replace(r'[^\\w\\s]','').replace(r'\\n','', regex=True)\n",
    "\n",
    "df['text'][0]"
   ]
  },
  {
   "cell_type": "code",
   "execution_count": 15,
   "id": "506bc2c3-7c7e-4ccd-8c02-38288a623669",
   "metadata": {},
   "outputs": [
    {
     "data": {
      "text/html": [
       "<div>\n",
       "<style scoped>\n",
       "    .dataframe tbody tr th:only-of-type {\n",
       "        vertical-align: middle;\n",
       "    }\n",
       "\n",
       "    .dataframe tbody tr th {\n",
       "        vertical-align: top;\n",
       "    }\n",
       "\n",
       "    .dataframe thead th {\n",
       "        text-align: right;\n",
       "    }\n",
       "</style>\n",
       "<table border=\"1\" class=\"dataframe\">\n",
       "  <thead>\n",
       "    <tr style=\"text-align: right;\">\n",
       "      <th></th>\n",
       "      <th>artist</th>\n",
       "      <th>song</th>\n",
       "      <th>text</th>\n",
       "      <th>tags</th>\n",
       "    </tr>\n",
       "  </thead>\n",
       "  <tbody>\n",
       "    <tr>\n",
       "      <th>0</th>\n",
       "      <td>DollyParton</td>\n",
       "      <td>I Dreamed Of A Hillbilly Heaven</td>\n",
       "      <td>i dreamed i was there in hillbilly heaven oh w...</td>\n",
       "      <td>DollyPartoni dreamed i was there in hillbilly ...</td>\n",
       "    </tr>\n",
       "    <tr>\n",
       "      <th>1</th>\n",
       "      <td>Styx</td>\n",
       "      <td>What Has Come Between Us</td>\n",
       "      <td>look at all the people  looking at their dream...</td>\n",
       "      <td>Styxlook at all the people  looking at their d...</td>\n",
       "    </tr>\n",
       "    <tr>\n",
       "      <th>2</th>\n",
       "      <td>BonJovi</td>\n",
       "      <td>Bed Of Roses</td>\n",
       "      <td>sitting here wasted and wounded  at this old p...</td>\n",
       "      <td>BonJovisitting here wasted and wounded  at thi...</td>\n",
       "    </tr>\n",
       "    <tr>\n",
       "      <th>3</th>\n",
       "      <td>ChrisRea</td>\n",
       "      <td>Square Peg, Round Hole</td>\n",
       "      <td>he's a square peg in a round hole  misfit in a...</td>\n",
       "      <td>ChrisReahe's a square peg in a round hole  mis...</td>\n",
       "    </tr>\n",
       "    <tr>\n",
       "      <th>4</th>\n",
       "      <td>AmyGrant</td>\n",
       "      <td>It's The Most Wonderful Time Of The Year</td>\n",
       "      <td>it's the most wonderful time of the year    it...</td>\n",
       "      <td>AmyGrantit's the most wonderful time of the ye...</td>\n",
       "    </tr>\n",
       "  </tbody>\n",
       "</table>\n",
       "</div>"
      ],
      "text/plain": [
       "        artist                                      song  \\\n",
       "0  DollyParton           I Dreamed Of A Hillbilly Heaven   \n",
       "1         Styx                  What Has Come Between Us   \n",
       "2      BonJovi                              Bed Of Roses   \n",
       "3     ChrisRea                    Square Peg, Round Hole   \n",
       "4     AmyGrant  It's The Most Wonderful Time Of The Year   \n",
       "\n",
       "                                                text  \\\n",
       "0  i dreamed i was there in hillbilly heaven oh w...   \n",
       "1  look at all the people  looking at their dream...   \n",
       "2  sitting here wasted and wounded  at this old p...   \n",
       "3  he's a square peg in a round hole  misfit in a...   \n",
       "4  it's the most wonderful time of the year    it...   \n",
       "\n",
       "                                                tags  \n",
       "0  DollyPartoni dreamed i was there in hillbilly ...  \n",
       "1  Styxlook at all the people  looking at their d...  \n",
       "2  BonJovisitting here wasted and wounded  at thi...  \n",
       "3  ChrisReahe's a square peg in a round hole  mis...  \n",
       "4  AmyGrantit's the most wonderful time of the ye...  "
      ]
     },
     "execution_count": 15,
     "metadata": {},
     "output_type": "execute_result"
    }
   ],
   "source": [
    "df['tags'] = df['artist'] + df['text']\n",
    "df.head()"
   ]
  },
  {
   "cell_type": "code",
   "execution_count": 16,
   "id": "5144b0d8-25ab-491d-baa4-40c4e2753e24",
   "metadata": {},
   "outputs": [
    {
     "data": {
      "text/html": [
       "<div>\n",
       "<style scoped>\n",
       "    .dataframe tbody tr th:only-of-type {\n",
       "        vertical-align: middle;\n",
       "    }\n",
       "\n",
       "    .dataframe tbody tr th {\n",
       "        vertical-align: top;\n",
       "    }\n",
       "\n",
       "    .dataframe thead th {\n",
       "        text-align: right;\n",
       "    }\n",
       "</style>\n",
       "<table border=\"1\" class=\"dataframe\">\n",
       "  <thead>\n",
       "    <tr style=\"text-align: right;\">\n",
       "      <th></th>\n",
       "      <th>song</th>\n",
       "      <th>tags</th>\n",
       "    </tr>\n",
       "  </thead>\n",
       "  <tbody>\n",
       "    <tr>\n",
       "      <th>0</th>\n",
       "      <td>I Dreamed Of A Hillbilly Heaven</td>\n",
       "      <td>DollyPartoni dreamed i was there in hillbilly ...</td>\n",
       "    </tr>\n",
       "    <tr>\n",
       "      <th>1</th>\n",
       "      <td>What Has Come Between Us</td>\n",
       "      <td>Styxlook at all the people  looking at their d...</td>\n",
       "    </tr>\n",
       "    <tr>\n",
       "      <th>2</th>\n",
       "      <td>Bed Of Roses</td>\n",
       "      <td>BonJovisitting here wasted and wounded  at thi...</td>\n",
       "    </tr>\n",
       "    <tr>\n",
       "      <th>3</th>\n",
       "      <td>Square Peg, Round Hole</td>\n",
       "      <td>ChrisReahe's a square peg in a round hole  mis...</td>\n",
       "    </tr>\n",
       "    <tr>\n",
       "      <th>4</th>\n",
       "      <td>It's The Most Wonderful Time Of The Year</td>\n",
       "      <td>AmyGrantit's the most wonderful time of the ye...</td>\n",
       "    </tr>\n",
       "  </tbody>\n",
       "</table>\n",
       "</div>"
      ],
      "text/plain": [
       "                                       song  \\\n",
       "0           I Dreamed Of A Hillbilly Heaven   \n",
       "1                  What Has Come Between Us   \n",
       "2                              Bed Of Roses   \n",
       "3                    Square Peg, Round Hole   \n",
       "4  It's The Most Wonderful Time Of The Year   \n",
       "\n",
       "                                                tags  \n",
       "0  DollyPartoni dreamed i was there in hillbilly ...  \n",
       "1  Styxlook at all the people  looking at their d...  \n",
       "2  BonJovisitting here wasted and wounded  at thi...  \n",
       "3  ChrisReahe's a square peg in a round hole  mis...  \n",
       "4  AmyGrantit's the most wonderful time of the ye...  "
      ]
     },
     "execution_count": 16,
     "metadata": {},
     "output_type": "execute_result"
    }
   ],
   "source": [
    "new_df = df[['song','tags']]\n",
    "new_df.head()"
   ]
  },
  {
   "cell_type": "markdown",
   "id": "8cd2e258-1e9a-4a60-9024-52848c4588a2",
   "metadata": {},
   "source": [
    "### Preprocessing"
   ]
  },
  {
   "cell_type": "code",
   "execution_count": 17,
   "id": "34290030-c45a-4135-bd50-a21f6689bc4b",
   "metadata": {},
   "outputs": [],
   "source": [
    "# We need to tokenize the similar words in the tags columns [love,loving] ->[love]\n",
    "from nltk.stem.porter import PorterStemmer\n",
    "ps = PorterStemmer()"
   ]
  },
  {
   "cell_type": "code",
   "execution_count": 18,
   "id": "cad882a0-2724-4a5b-aded-d3a02709ce6c",
   "metadata": {},
   "outputs": [],
   "source": [
    "def stem(text):\n",
    "    l=[]\n",
    "    for i in text.split():\n",
    "        l.append(ps.stem(i))\n",
    "    return \" \".join(l)"
   ]
  },
  {
   "cell_type": "code",
   "execution_count": 19,
   "id": "2b24563f-c0b2-41ba-8a6b-c2c19102d6cf",
   "metadata": {},
   "outputs": [],
   "source": [
    "new_df['tags'] = new_df['tags'].apply(stem)"
   ]
  },
  {
   "cell_type": "markdown",
   "id": "624a1cb5-bb05-43a8-87ef-c859d068ce05",
   "metadata": {},
   "source": [
    "**Tags vectorization to compare similarity**"
   ]
  },
  {
   "cell_type": "code",
   "execution_count": 20,
   "id": "5fa0d150-2e5b-4ac7-bd3d-6649ab0c67ba",
   "metadata": {},
   "outputs": [],
   "source": [
    "from sklearn.feature_extraction.text import TfidfVectorizer\n",
    "tf = TfidfVectorizer(analyzer='word',stop_words='english')\n",
    "matrix = tf.fit_transform(new_df['tags'])"
   ]
  },
  {
   "cell_type": "markdown",
   "id": "2dd698d5-e522-4a45-bcbb-a2efb39b9176",
   "metadata": {},
   "source": [
    "**Importing cosine similarity library to compare the similarity with each other**"
   ]
  },
  {
   "cell_type": "code",
   "execution_count": 21,
   "id": "a17c053d-1fea-4c1f-9964-4cae90958578",
   "metadata": {},
   "outputs": [
    {
     "name": "stdout",
     "output_type": "stream",
     "text": [
      "(5000, 5000)\n"
     ]
    },
    {
     "data": {
      "text/plain": [
       "array([1.        , 0.01027342, 0.04526345, ..., 0.03166247, 0.03881116,\n",
       "       0.08704583])"
      ]
     },
     "execution_count": 21,
     "metadata": {},
     "output_type": "execute_result"
    }
   ],
   "source": [
    "from sklearn.metrics.pairwise import cosine_similarity\n",
    "similarity = cosine_similarity(matrix)\n",
    "print(similarity.shape)\n",
    "similarity[0]"
   ]
  },
  {
   "cell_type": "code",
   "execution_count": null,
   "id": "b050c4b3-71d9-49fd-b93b-cde02316f530",
   "metadata": {},
   "outputs": [],
   "source": []
  },
  {
   "cell_type": "markdown",
   "id": "75e5fc63-f233-423e-abdc-668f8b741d3b",
   "metadata": {},
   "source": [
    "### Recommendation function"
   ]
  },
  {
   "cell_type": "code",
   "execution_count": 25,
   "id": "a3c30e1f-cb60-47b3-b0af-f091987de5a9",
   "metadata": {},
   "outputs": [],
   "source": [
    "def recommendation(song_df):\n",
    "    idx = new_df[new_df['song'] == song_df].index[0]\n",
    "    distances = sorted(list(enumerate(similarity[idx])),reverse=True,key=lambda x:x[1])\n",
    "    \n",
    "    songs = []\n",
    "    for m_id in distances[1:21]:\n",
    "        songs.append(df.iloc[m_id[0]].song)\n",
    "        \n",
    "    return songs"
   ]
  },
  {
   "cell_type": "code",
   "execution_count": 26,
   "id": "5b716ac1-5841-4a99-8019-7cda16044877",
   "metadata": {},
   "outputs": [
    {
     "data": {
      "text/plain": [
       "['Bed In Summer',\n",
       " 'Time For Bed',\n",
       " 'Lay It Down',\n",
       " \"I'd Just Love To Lay You Down - Conway Twitty\",\n",
       " 'Give My Love To Rose',\n",
       " 'Lay Down Beside Me',\n",
       " 'A Last Request',\n",
       " 'A Teardrop On A Rose',\n",
       " 'Loving You',\n",
       " 'Too Close To Heaven',\n",
       " 'Summer In December',\n",
       " 'Give It All We Got Tonight',\n",
       " \"I'll Never Get Enough Of You\",\n",
       " \"Don't Try To Close A Rose\",\n",
       " \"I Can't Keep This From You\",\n",
       " \"I'm Your Baby Tonight\",\n",
       " \"No One's Gonna Sleep Tonight\",\n",
       " 'Love Me Tonight',\n",
       " 'I Just Want You',\n",
       " 'House']"
      ]
     },
     "execution_count": 26,
     "metadata": {},
     "output_type": "execute_result"
    }
   ],
   "source": [
    "recommendation(\"Bed Of Roses\")"
   ]
  },
  {
   "cell_type": "code",
   "execution_count": 28,
   "id": "964944de-b164-481d-91ea-7fd519d4c5f0",
   "metadata": {
    "scrolled": true
   },
   "outputs": [
    {
     "data": {
      "text/plain": [
       "['Hole Hearted',\n",
       " 'Still Falls The Rain',\n",
       " 'Incarceration Of A Flower Child',\n",
       " 'Cool Love',\n",
       " 'This Song',\n",
       " 'Black Hole Sun',\n",
       " 'House',\n",
       " 'Jimmy Newman',\n",
       " 'Clockwork Angels',\n",
       " 'Soldier In Our Town',\n",
       " 'On Your Own',\n",
       " 'Hole In Your Soul',\n",
       " 'Infinity',\n",
       " 'Five Years',\n",
       " '7 Years',\n",
       " 'Heading Out To The Highway',\n",
       " 'Sun Come Up',\n",
       " 'Abacab',\n",
       " 'Little Miss Fit',\n",
       " 'This Land Is Your Land']"
      ]
     },
     "execution_count": 28,
     "metadata": {},
     "output_type": "execute_result"
    }
   ],
   "source": [
    "recommendation('Square Peg, Round Hole')"
   ]
  },
  {
   "cell_type": "code",
   "execution_count": null,
   "id": "6b0b1932-7c64-4163-a67c-577e407be396",
   "metadata": {},
   "outputs": [],
   "source": []
  }
 ],
 "metadata": {
  "kernelspec": {
   "display_name": "Python 3 (ipykernel)",
   "language": "python",
   "name": "python3"
  },
  "language_info": {
   "codemirror_mode": {
    "name": "ipython",
    "version": 3
   },
   "file_extension": ".py",
   "mimetype": "text/x-python",
   "name": "python",
   "nbconvert_exporter": "python",
   "pygments_lexer": "ipython3",
   "version": "3.11.7"
  },
  "widgets": {
   "application/vnd.jupyter.widget-state+json": {
    "state": {},
    "version_major": 2,
    "version_minor": 0
   }
  }
 },
 "nbformat": 4,
 "nbformat_minor": 5
}
